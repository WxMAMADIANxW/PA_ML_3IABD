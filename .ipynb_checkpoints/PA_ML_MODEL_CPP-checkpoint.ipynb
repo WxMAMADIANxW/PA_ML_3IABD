{
 "cells": [
  {
   "cell_type": "code",
   "execution_count": 4,
   "id": "22d2b285",
   "metadata": {},
   "outputs": [],
   "source": [
    "import matplotlib.pyplot as plt\n",
    "import numpy as np\n",
    "from ctypes import *\n",
    "import numpy as np\n",
    "from PIL import Image, ImageOps\n",
    "import os\n",
    "from tqdm import tqdm\n",
    "tqdm.pandas()\n",
    "import pickle\n",
    "from sklearn.model_selection import train_test_split"
   ]
  },
  {
   "cell_type": "markdown",
   "id": "4ba37ece",
   "metadata": {},
   "source": [
    "import des fonctions de la lib python pour le modele MLP"
   ]
  },
  {
   "cell_type": "code",
   "execution_count": 2,
   "id": "bddad858",
   "metadata": {},
   "outputs": [],
   "source": [
    "path_to_shared_library =\"./CPPDLLForPython/cmake-build-debug/CPPDLLForPython.dll\"\n",
    "my_lib = cdll.LoadLibrary(path_to_shared_library)"
   ]
  },
  {
   "cell_type": "code",
   "execution_count": 23,
   "id": "d146f850",
   "metadata": {},
   "outputs": [],
   "source": [
    "def create_MLP_model(npl, dsize):\n",
    "    npltype = POINTER(c_int)\n",
    "    dsizetype = c_int\n",
    "    \n",
    "    my_lib.create_MLP_model.argtypes = [npltype, dsizetype]\n",
    "    my_lib.create_MLP_model.restypes = c_void_p\n",
    "\n",
    "    model = my_lib.create_MLP_model(npl, dsize)\n",
    "    return model\n",
    "\n",
    "def train_classification_stochastic_backprop_mlp_model(model, flattened_dataset_inputs,flattened_expected_outputs,alpha = 0.01,iterations_count = 1000):\n",
    "    model_type = POINTER(c_void_p)\n",
    "    flattened_dataset_inputs_type = POINTER(c_void_p)\n",
    "    flattened_expected_outputs_type = POINTER(c_void_p)\n",
    "\n",
    "    my_lib.predict_linear_model_regression.argtypes = [model_type, flattened_dataset_inputs_type, flattened_expected_outputs_type, c_float, c_int]\n",
    "    my_lib.predict_linear_model_regression.restypes = None\n",
    "\n",
    "def train_regression_stochastic_backprop_mlp_model(model, flattened_dataset_inputs,flattened_expected_outputs,alpha = 0.01,iterations_count = 1000):\n",
    "    model_type = POINTER(c_void_p)\n",
    "    flattened_dataset_inputs_type = POINTER(c_void_p)\n",
    "    flattened_expected_outputs_type = POINTER(c_void_p)\n",
    "\n",
    "    my_lib.predict_linear_model_regression.argtypes = [model_type, flattened_dataset_inputs_type, flattened_expected_outputs_type, c_float, c_int]\n",
    "    my_lib.predict_linear_model_regression.restypes = None\n",
    "\n",
    "def predict_mlp_model_classification(model, sample_inputs):\n",
    "    model_type = POINTER(c_void_p)\n",
    "    sample_inputs_type = POINTER(c_void_p)\n",
    "\n",
    "    my_lib.predict_mlp_classification.argtypes = [model_type, sample_inputs_type]\n",
    "    my_lib.predict_mlp_classification.restypes = c_float\n",
    "\n",
    "    predict_model = my_lib.predict_mlp_model_classification(model, sample_inputs)\n",
    "\n",
    "    return predict_model\n",
    "\n",
    "def predict_mlp_model_regression(model, sample_inputs):\n",
    "    model_type = POINTER(c_void_p)\n",
    "    sample_inputs_type = POINTER(c_void_p)\n",
    "\n",
    "    my_lib.predict_mlp_model_regression.argtypes = [model_type, sample_inputs_type]\n",
    "    my_lib.predict_mlp_model_regression.restypes = c_float\n",
    "\n",
    "    predict_model = my_lib.predict_mlp_model_regression(model, sample_inputs)\n",
    "\n",
    "    return predict_model"
   ]
  },
  {
   "cell_type": "markdown",
   "id": "4c39dd27",
   "metadata": {},
   "source": [
    "Import des images pour le dataset et creation de methode de preprocessing de données"
   ]
  },
  {
   "cell_type": "code",
   "execution_count": 5,
   "id": "d99514c8",
   "metadata": {},
   "outputs": [],
   "source": [
    "def preprocess_dataset(path,img_size):\n",
    "    list_X,list_Y = [],[]\n",
    "    for filename in tqdm(os.listdir(path)):\n",
    "        img = ImageOps.grayscale(Image.open(path+\"/\"+filename).resize(img_size))\n",
    "        array = np.asarray(img).flatten().tolist()\n",
    "        \n",
    "        list_X.append(array)\n",
    "    \n",
    "        if \"Dataset_Mangas\" in path:\n",
    "            class_array = 0\n",
    "        elif \"Dataset_Romans\" in path:\n",
    "            class_array = 1\n",
    "        elif \"Dataset_Comics\" in path:\n",
    "            class_array = 2\n",
    "        \n",
    "        list_Y.append(class_array)\n",
    "        \n",
    "      \n",
    "    X ,Y = np.array(list_X), np.array(list_Y)\n",
    "    return X/255.**2,Y.reshape((Y.shape[0],))/255.**2"
   ]
  },
  {
   "cell_type": "code",
   "execution_count": 6,
   "id": "689ac9e6",
   "metadata": {},
   "outputs": [
    {
     "name": "stderr",
     "output_type": "stream",
     "text": [
      "100%|██████████| 2034/2034 [01:36<00:00, 21.06it/s]\n"
     ]
    }
   ],
   "source": [
    "X_mangas,Y_mangas = preprocess_dataset(\"C:/Users/Mamadian/Documents/ESGI/MachineLearning/PA_ML_3IABD/dataset/Dataset_Mangas/\",(56,56))"
   ]
  },
  {
   "cell_type": "code",
   "execution_count": 7,
   "id": "d476e658",
   "metadata": {},
   "outputs": [
    {
     "name": "stderr",
     "output_type": "stream",
     "text": [
      "100%|██████████| 2089/2089 [03:55<00:00,  8.87it/s]\n"
     ]
    }
   ],
   "source": [
    "X_comics,Y_comics = preprocess_dataset(\"C:/Users/Mamadian/Documents/ESGI/MachineLearning/PA_ML_3IABD/dataset/Dataset_Comics/\",(56,56))"
   ]
  },
  {
   "cell_type": "code",
   "execution_count": 8,
   "id": "6fc68159",
   "metadata": {},
   "outputs": [
    {
     "name": "stderr",
     "output_type": "stream",
     "text": [
      "100%|██████████| 2571/2571 [02:45<00:00, 15.57it/s]\n"
     ]
    }
   ],
   "source": [
    "X_romans,Y_romans = preprocess_dataset(\"C:/Users/Mamadian/Documents/ESGI/MachineLearning/PA_ML_3IABD/dataset/Dataset_Romans/\",(56,56))"
   ]
  },
  {
   "cell_type": "code",
   "execution_count": 11,
   "id": "324b651c",
   "metadata": {},
   "outputs": [],
   "source": [
    "X_mangas_train, X_mangas_test, y_mangas_train, y_mangas_test = train_test_split(X_mangas, Y_mangas, test_size=0.33, random_state=42)\n",
    "X_romans_train, X_romans_test, y_romans_train, y_romans_test = train_test_split(X_romans, Y_romans, test_size=0.33, random_state=42)\n",
    "X_comics_train, X_comics_test, y_comics_train, y_comics_test = train_test_split(X_comics, Y_comics, test_size=0.33, random_state=42)"
   ]
  },
  {
   "cell_type": "code",
   "execution_count": 12,
   "id": "815e47cc",
   "metadata": {},
   "outputs": [],
   "source": [
    "X_train = np.concatenate((X_mangas_train, X_romans_train, X_comics_train), axis=0)\n",
    "y_train = np.concatenate((y_mangas_train, y_romans_train, y_comics_train), axis=0)\n",
    "\n",
    "X_test = np.concatenate((X_mangas_test, X_romans_test, X_comics_test), axis=0)\n",
    "y_test = np.concatenate((y_mangas_test, y_romans_test, y_comics_test), axis=0)"
   ]
  },
  {
   "cell_type": "code",
   "execution_count": 15,
   "id": "a5ce34c0",
   "metadata": {},
   "outputs": [
    {
     "data": {
      "text/plain": [
       "(4483, 3136)"
      ]
     },
     "execution_count": 15,
     "metadata": {},
     "output_type": "execute_result"
    }
   ],
   "source": [
    "X_train.shape"
   ]
  },
  {
   "cell_type": "code",
   "execution_count": 13,
   "id": "d4d38aa9",
   "metadata": {},
   "outputs": [],
   "source": [
    "pyarr = [2,3,1]\n",
    "tab = (c_int*len(pyarr))(*pyarr)\n",
    "mlp = create_MLP_model(tab,3)"
   ]
  },
  {
   "cell_type": "code",
   "execution_count": 17,
   "id": "f1f89c62",
   "metadata": {},
   "outputs": [],
   "source": [
    "train_classification_stochastic_backprop_mlp_model(mlp, X_train, y_train, alpha = 0.01, iterations_count = 1000)"
   ]
  },
  {
   "cell_type": "code",
   "execution_count": 20,
   "id": "e2a2d4c1",
   "metadata": {},
   "outputs": [],
   "source": [
    "def process_image(filepath, img_size):\n",
    "    \n",
    "    img = ImageOps.grayscale(Image.open(filepath).resize(img_size))\n",
    "    array = np.asarray(img) / 255**2\n",
    "    \n",
    "    return np.array(array.flatten().tolist()).reshape((1,img_size[0]*img_size[1]))"
   ]
  },
  {
   "cell_type": "code",
   "execution_count": 21,
   "id": "ba984cfd",
   "metadata": {},
   "outputs": [],
   "source": [
    "img = process_image(\"C:/Users/Mamadian/Documents/ESGI/MachineLearning/PA_ML_3IABD/dataset/AT_WildHunt_Final-04-flat.jpg\",(56,56))"
   ]
  },
  {
   "cell_type": "code",
   "execution_count": 25,
   "id": "10c47fa2",
   "metadata": {},
   "outputs": [
    {
     "ename": "AttributeError",
     "evalue": "function 'predict_mlp_classification' not found",
     "output_type": "error",
     "traceback": [
      "\u001b[1;31m---------------------------------------------------------------------------\u001b[0m",
      "\u001b[1;31mAttributeError\u001b[0m                            Traceback (most recent call last)",
      "\u001b[1;32m<ipython-input-25-24a44b772597>\u001b[0m in \u001b[0;36m<module>\u001b[1;34m\u001b[0m\n\u001b[1;32m----> 1\u001b[1;33m \u001b[0mres\u001b[0m \u001b[1;33m=\u001b[0m \u001b[0mpredict_mlp_model_classification\u001b[0m\u001b[1;33m(\u001b[0m\u001b[0mmlp\u001b[0m\u001b[1;33m,\u001b[0m \u001b[0mimg\u001b[0m\u001b[1;33m)\u001b[0m\u001b[1;33m\u001b[0m\u001b[1;33m\u001b[0m\u001b[0m\n\u001b[0m",
      "\u001b[1;32m<ipython-input-23-a828887ebea1>\u001b[0m in \u001b[0;36mpredict_mlp_model_classification\u001b[1;34m(model, sample_inputs)\u001b[0m\n\u001b[0;32m     29\u001b[0m     \u001b[0msample_inputs_type\u001b[0m \u001b[1;33m=\u001b[0m \u001b[1;33m[\u001b[0m\u001b[0mc_void_p\u001b[0m\u001b[1;33m]\u001b[0m\u001b[1;33m\u001b[0m\u001b[1;33m\u001b[0m\u001b[0m\n\u001b[0;32m     30\u001b[0m \u001b[1;33m\u001b[0m\u001b[0m\n\u001b[1;32m---> 31\u001b[1;33m     \u001b[0mmy_lib\u001b[0m\u001b[1;33m.\u001b[0m\u001b[0mpredict_mlp_classification\u001b[0m\u001b[1;33m.\u001b[0m\u001b[0margtypes\u001b[0m \u001b[1;33m=\u001b[0m \u001b[1;33m[\u001b[0m\u001b[0mmodel_type\u001b[0m\u001b[1;33m,\u001b[0m \u001b[0msample_inputs_type\u001b[0m\u001b[1;33m]\u001b[0m\u001b[1;33m\u001b[0m\u001b[1;33m\u001b[0m\u001b[0m\n\u001b[0m\u001b[0;32m     32\u001b[0m     \u001b[0mmy_lib\u001b[0m\u001b[1;33m.\u001b[0m\u001b[0mpredict_mlp_classification\u001b[0m\u001b[1;33m.\u001b[0m\u001b[0mrestypes\u001b[0m \u001b[1;33m=\u001b[0m \u001b[0mc_float\u001b[0m\u001b[1;33m\u001b[0m\u001b[1;33m\u001b[0m\u001b[0m\n\u001b[0;32m     33\u001b[0m \u001b[1;33m\u001b[0m\u001b[0m\n",
      "\u001b[1;32m~\\anaconda3\\lib\\ctypes\\__init__.py\u001b[0m in \u001b[0;36m__getattr__\u001b[1;34m(self, name)\u001b[0m\n\u001b[0;32m    392\u001b[0m         \u001b[1;32mif\u001b[0m \u001b[0mname\u001b[0m\u001b[1;33m.\u001b[0m\u001b[0mstartswith\u001b[0m\u001b[1;33m(\u001b[0m\u001b[1;34m'__'\u001b[0m\u001b[1;33m)\u001b[0m \u001b[1;32mand\u001b[0m \u001b[0mname\u001b[0m\u001b[1;33m.\u001b[0m\u001b[0mendswith\u001b[0m\u001b[1;33m(\u001b[0m\u001b[1;34m'__'\u001b[0m\u001b[1;33m)\u001b[0m\u001b[1;33m:\u001b[0m\u001b[1;33m\u001b[0m\u001b[1;33m\u001b[0m\u001b[0m\n\u001b[0;32m    393\u001b[0m             \u001b[1;32mraise\u001b[0m \u001b[0mAttributeError\u001b[0m\u001b[1;33m(\u001b[0m\u001b[0mname\u001b[0m\u001b[1;33m)\u001b[0m\u001b[1;33m\u001b[0m\u001b[1;33m\u001b[0m\u001b[0m\n\u001b[1;32m--> 394\u001b[1;33m         \u001b[0mfunc\u001b[0m \u001b[1;33m=\u001b[0m \u001b[0mself\u001b[0m\u001b[1;33m.\u001b[0m\u001b[0m__getitem__\u001b[0m\u001b[1;33m(\u001b[0m\u001b[0mname\u001b[0m\u001b[1;33m)\u001b[0m\u001b[1;33m\u001b[0m\u001b[1;33m\u001b[0m\u001b[0m\n\u001b[0m\u001b[0;32m    395\u001b[0m         \u001b[0msetattr\u001b[0m\u001b[1;33m(\u001b[0m\u001b[0mself\u001b[0m\u001b[1;33m,\u001b[0m \u001b[0mname\u001b[0m\u001b[1;33m,\u001b[0m \u001b[0mfunc\u001b[0m\u001b[1;33m)\u001b[0m\u001b[1;33m\u001b[0m\u001b[1;33m\u001b[0m\u001b[0m\n\u001b[0;32m    396\u001b[0m         \u001b[1;32mreturn\u001b[0m \u001b[0mfunc\u001b[0m\u001b[1;33m\u001b[0m\u001b[1;33m\u001b[0m\u001b[0m\n",
      "\u001b[1;32m~\\anaconda3\\lib\\ctypes\\__init__.py\u001b[0m in \u001b[0;36m__getitem__\u001b[1;34m(self, name_or_ordinal)\u001b[0m\n\u001b[0;32m    397\u001b[0m \u001b[1;33m\u001b[0m\u001b[0m\n\u001b[0;32m    398\u001b[0m     \u001b[1;32mdef\u001b[0m \u001b[0m__getitem__\u001b[0m\u001b[1;33m(\u001b[0m\u001b[0mself\u001b[0m\u001b[1;33m,\u001b[0m \u001b[0mname_or_ordinal\u001b[0m\u001b[1;33m)\u001b[0m\u001b[1;33m:\u001b[0m\u001b[1;33m\u001b[0m\u001b[1;33m\u001b[0m\u001b[0m\n\u001b[1;32m--> 399\u001b[1;33m         \u001b[0mfunc\u001b[0m \u001b[1;33m=\u001b[0m \u001b[0mself\u001b[0m\u001b[1;33m.\u001b[0m\u001b[0m_FuncPtr\u001b[0m\u001b[1;33m(\u001b[0m\u001b[1;33m(\u001b[0m\u001b[0mname_or_ordinal\u001b[0m\u001b[1;33m,\u001b[0m \u001b[0mself\u001b[0m\u001b[1;33m)\u001b[0m\u001b[1;33m)\u001b[0m\u001b[1;33m\u001b[0m\u001b[1;33m\u001b[0m\u001b[0m\n\u001b[0m\u001b[0;32m    400\u001b[0m         \u001b[1;32mif\u001b[0m \u001b[1;32mnot\u001b[0m \u001b[0misinstance\u001b[0m\u001b[1;33m(\u001b[0m\u001b[0mname_or_ordinal\u001b[0m\u001b[1;33m,\u001b[0m \u001b[0mint\u001b[0m\u001b[1;33m)\u001b[0m\u001b[1;33m:\u001b[0m\u001b[1;33m\u001b[0m\u001b[1;33m\u001b[0m\u001b[0m\n\u001b[0;32m    401\u001b[0m             \u001b[0mfunc\u001b[0m\u001b[1;33m.\u001b[0m\u001b[0m__name__\u001b[0m \u001b[1;33m=\u001b[0m \u001b[0mname_or_ordinal\u001b[0m\u001b[1;33m\u001b[0m\u001b[1;33m\u001b[0m\u001b[0m\n",
      "\u001b[1;31mAttributeError\u001b[0m: function 'predict_mlp_classification' not found"
     ]
    }
   ],
   "source": [
    "res = predict_mlp_model_classification(mlp, img)"
   ]
  }
 ],
 "metadata": {
  "kernelspec": {
   "display_name": "Python 3",
   "language": "python",
   "name": "python3"
  },
  "language_info": {
   "codemirror_mode": {
    "name": "ipython",
    "version": 3
   },
   "file_extension": ".py",
   "mimetype": "text/x-python",
   "name": "python",
   "nbconvert_exporter": "python",
   "pygments_lexer": "ipython3",
   "version": "3.8.5"
  }
 },
 "nbformat": 4,
 "nbformat_minor": 5
}
